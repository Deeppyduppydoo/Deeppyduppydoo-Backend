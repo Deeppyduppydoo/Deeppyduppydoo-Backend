{
  "cells": [
    {
      "cell_type": "markdown",
      "metadata": {
        "id": "UqHahYPUZXmm"
      },
      "source": [
        "## mounting drive"
      ]
    },
    {
      "cell_type": "code",
      "execution_count": null,
      "metadata": {
        "colab": {
          "base_uri": "https://localhost:8080/"
        },
        "id": "E8wAHjSdZWlB",
        "outputId": "0af29335-e71a-47f9-bae2-dfc892a8cb64"
      },
      "outputs": [],
      "source": [
        "from google.colab import drive\n",
        "drive.mount('/content/drive/', force_remount=True)"
      ]
    },
    {
      "cell_type": "markdown",
      "metadata": {
        "id": "wvwi-Lc5Zv6n"
      },
      "source": [
        "## Import"
      ]
    },
    {
      "cell_type": "code",
      "execution_count": null,
      "metadata": {
        "id": "lyYd_94zZO6g"
      },
      "outputs": [],
      "source": [
        "import os\n",
        "import numpy as np\n",
        "import pandas as pd\n",
        "import random\n",
        "import cv2\n",
        "import glob\n",
        "import tensorflow as tf\n",
        "import matplotlib.pyplot as plt\n",
        "from matplotlib import style\n",
        "from PIL import Image\n",
        "import glob\n",
        "from sklearn.model_selection import KFold, train_test_split\n",
        "from tensorflow.keras.preprocessing import image\n",
        "from tensorflow.keras.preprocessing.image import ImageDataGenerator\n",
        "from tensorflow.keras.applications import VGG16\n",
        "from tensorflow.keras.layers import Dense, GlobalAveragePooling2D\n",
        "from tensorflow.keras.models import Model, Sequential\n",
        "from tensorflow.keras.optimizers import Adam\n"
      ]
    },
    {
      "cell_type": "markdown",
      "metadata": {
        "id": "S1s6I6r4ZaW_"
      },
      "source": [
        "## Visual and Augment"
      ]
    },
    {
      "cell_type": "code",
      "execution_count": null,
      "metadata": {
        "colab": {
          "base_uri": "https://localhost:8080/"
        },
        "id": "GdLfRMRPaGGV",
        "outputId": "195cc673-6124-4238-eb75-085c758d615c"
      },
      "outputs": [],
      "source": [
        "# List all data\n",
        "members = [\"Oak\",\"Pat\",\"Pookkie\",\"Praewa\",\"Tup\"]\n",
        "image_dir = \"/content/drive/MyDrive/DeepLearning-Project/Train_Splitted/train\" # Path to dataset\n",
        "\n",
        "total_images = 0\n",
        "\n",
        "for member in members:\n",
        "    count = len([f for f in os.listdir(os.path.join(image_dir, member))\n",
        "                 if f.lower().endswith(('.png', '.jpg', '.jpeg'))])\n",
        "\n",
        "    print(f\"{member}'s images: {count}\")\n",
        "    total_images += count\n",
        "\n",
        "print(f\"Total images: {total_images}\")"
      ]
    },
    {
      "cell_type": "code",
      "execution_count": null,
      "metadata": {
        "colab": {
          "base_uri": "https://localhost:8080/",
          "height": 1000
        },
        "id": "rTHfQpKLaPxD",
        "outputId": "9dfd3dea-c58a-4ec8-83f8-0e78163257fd"
      },
      "outputs": [],
      "source": [
        "# Show data\n",
        "style.use('dark_background')\n",
        "plt.figure(figsize=(20, 15))\n",
        "for row, member in enumerate(members) :\n",
        "  image_folder = os.path.join(image_dir, member)\n",
        "  image_files = [f for f in os.listdir(image_folder) if f.lower().endswith(('.png', '.jpg', '.jpeg'))]\n",
        "  sample_images = random.sample(image_files, min(5, len(image_files)))\n",
        "  for col, filename in enumerate(sample_images):\n",
        "      img_path = os.path.join(image_folder, filename)\n",
        "      img = cv2.imread(img_path)\n",
        "      img = cv2.cvtColor(img, cv2.COLOR_BGR2RGB)  # Convert color for Matplotlib\n",
        "\n",
        "      plt.subplot(len(members), 5, row * 5 + col + 1)\n",
        "      plt.imshow(img)\n",
        "      plt.axis(\"off\")\n",
        "      plt.title(member if col == 2 else \"\", fontsize=25,color=\"yellow\",fontweight=\"bold\")\n",
        "\n",
        "plt.tight_layout()\n",
        "plt.show()\n"
      ]
    },
    {
      "cell_type": "code",
      "execution_count": null,
      "metadata": {
        "colab": {
          "base_uri": "https://localhost:8080/"
        },
        "id": "ycfS438uakxf",
        "outputId": "f9fd348a-9152-4a73-d5f4-8f1ffa5267f0"
      },
      "outputs": [],
      "source": [
        "def augment_pipeline(image_dir, members, augmentation_factor=3, img_size=(256, 256)):\n",
        "    \"\"\"\n",
        "    Loads images, applies augmentation, and returns them without saving.\n",
        "\n",
        "    Parameters:\n",
        "        image_dir (str): Path to the original images.\n",
        "        members (list): List of subdirectories (categories).\n",
        "        augmentation_factor (int): Number of augmented images per original image.\n",
        "        img_size (tuple): Target image size (width, height).\n",
        "\n",
        "    Returns:\n",
        "        dict: Dictionary with member names as keys and lists of augmented images as values.\n",
        "    \"\"\"\n",
        "    datagen = ImageDataGenerator(\n",
        "        rotation_range=20,\n",
        "        width_shift_range=0.2,\n",
        "        height_shift_range=0.2,\n",
        "        shear_range=0.2,\n",
        "        zoom_range=0.2,\n",
        "        horizontal_flip=True,\n",
        "        fill_mode='nearest'\n",
        "    )\n",
        "\n",
        "    augmented_data = {}\n",
        "\n",
        "    for member in members:\n",
        "        input_folder = os.path.join(image_dir, member)\n",
        "        image_files = [f for f in os.listdir(input_folder) if f.lower().endswith(('.png', '.jpg', '.jpeg'))]\n",
        "\n",
        "        print(f\"Processing {member}: Found {len(image_files)} images\")\n",
        "        augmented_data[member] = []\n",
        "\n",
        "        for filename in image_files:\n",
        "            img_path = os.path.join(input_folder, filename)\n",
        "            img = cv2.imread(img_path, cv2.IMREAD_GRAYSCALE)\n",
        "            img = cv2.cvtColor(img, cv2.COLOR_GRAY2RGB)\n",
        "            img = cv2.resize(img, img_size)\n",
        "            img = np.expand_dims(img, axis=0)\n",
        "\n",
        "            i = 0\n",
        "            for batch in datagen.flow(img, batch_size=1):\n",
        "                augmented_data[member].append(batch[0].astype(np.uint8))\n",
        "                i += 1\n",
        "                if i >= augmentation_factor:\n",
        "                    break\n",
        "\n",
        "        print(f\"{member}: {len(augmented_data[member])} augmented images generated\")\n",
        "\n",
        "    return augmented_data\n",
        "\n",
        "\n",
        "augmented_images = augment_pipeline(image_dir, members, augmentation_factor=3, img_size=(256, 256))\n",
        "print(\"Augmentation complete.\")"
      ]
    },
    {
      "cell_type": "code",
      "execution_count": null,
      "metadata": {
        "colab": {
          "base_uri": "https://localhost:8080/",
          "height": 1000
        },
        "id": "rHjofk75assD",
        "outputId": "f516c693-4641-4708-9abf-1a1c5fdf46e9"
      },
      "outputs": [],
      "source": [
        "# Show Augment data\n",
        "style.use('dark_background')\n",
        "plt.figure(figsize=(20, 15))\n",
        "\n",
        "for row, (member, images) in enumerate(augmented_images.items()):\n",
        "    sample_images = images[:5]\n",
        "\n",
        "    for col, img in enumerate(sample_images):\n",
        "        plt.subplot(len(members), 5, row * 5 + col + 1)\n",
        "        plt.imshow(img)\n",
        "        plt.axis(\"off\")\n",
        "        plt.title(member if col == 2 else \"\", fontsize=25,color=\"yellow\",fontweight=\"bold\")\n",
        "\n",
        "plt.tight_layout()\n",
        "plt.show()\n"
      ]
    },
    {
      "cell_type": "code",
      "execution_count": null,
      "metadata": {
        "id": "bGW65R_tayHm"
      },
      "outputs": [],
      "source": [
        "# Save Augment to folder\n",
        "augmented_images_path = \"/content/drive/MyDrive/DeepLearning-Project/Augmented_train\"\n",
        "\n",
        "for member, images in augmented_images.items():\n",
        "    member_path = os.path.join(augmented_images_path, member)\n",
        "    os.makedirs(member_path, exist_ok=True)  # Create the member directory if it doesn't exist\n",
        "    for i, img in enumerate(images):\n",
        "        filename = os.path.join(member_path, f\"augmented_{member}_{i}.jpg\")\n",
        "        cv2.imwrite(filename, img)"
      ]
    },
    {
      "cell_type": "markdown",
      "metadata": {
        "id": "VI7sSjLVaOrI"
      },
      "source": [
        "## Training"
      ]
    },
    {
      "cell_type": "code",
      "execution_count": null,
      "metadata": {
        "colab": {
          "base_uri": "https://localhost:8080/"
        },
        "id": "Y3_1GCC_bJ_Q",
        "outputId": "4f97f440-1f3e-4c89-85fb-36ea79a8402d"
      },
      "outputs": [],
      "source": [
        "img_height, img_width = 224, 224\n",
        "batch_size = 32\n",
        "\n",
        "train_dir = \"/content/drive/MyDrive/DeepLearning-Project/Augmented_train\"\n",
        "test_dir = \"/content/drive/MyDrive/DeepLearning-Project/Train_Splitted/test\"\n",
        "\n",
        "class_names = os.listdir(train_dir)\n",
        "image_paths = []\n",
        "labels = []\n",
        "test_image_paths = []\n",
        "test_labels = []\n",
        "\n",
        "for class_index, class_name in enumerate(class_names):\n",
        "    class_path = os.path.join(train_dir, class_name)\n",
        "    for img in os.listdir(class_path):\n",
        "        image_paths.append(os.path.join(class_path, img))\n",
        "        labels.append(class_index)\n",
        "\n",
        "for class_index, class_name in enumerate(class_names):\n",
        "    class_path = os.path.join(test_dir, class_name)\n",
        "    for img in os.listdir(class_path):\n",
        "        test_image_paths.append(os.path.join(class_path, img))\n",
        "        test_labels.append(class_index)\n",
        "\n",
        "print(class_names)\n",
        "print(len(image_paths))\n",
        "print(len(labels))\n",
        "print(len(test_image_paths))\n",
        "print(len(test_labels))"
      ]
    },
    {
      "cell_type": "code",
      "execution_count": null,
      "metadata": {
        "colab": {
          "base_uri": "https://localhost:8080/",
          "height": 324
        },
        "id": "qXRTXnV0bTbR",
        "outputId": "14ea8da5-b389-4e5a-9bff-025bf8bd2837"
      },
      "outputs": [],
      "source": [
        "# Using VGG16 for Base model and add 2 layer for training Data\n",
        "\n",
        "base_model = VGG16(weights='imagenet', include_top=False, input_shape=(img_height, img_width, 3))\n",
        "\n",
        "base_model.trainable = False\n",
        "\n",
        "model = Sequential([\n",
        "  base_model,\n",
        "  GlobalAveragePooling2D(),  # To reduce spatial dimensions\n",
        "  Dense(1024, activation='relu'),  # A dense layer for additional learning\n",
        "  Dense(5, activation='softmax')  # Output layer with 5 classes\n",
        "])\n",
        "\n",
        "model.summary()"
      ]
    },
    {
      "cell_type": "code",
      "execution_count": null,
      "metadata": {
        "id": "BlPUP-5Qbc8m"
      },
      "outputs": [],
      "source": [
        "# Compile the model\n",
        "model.compile(optimizer=Adam(learning_rate=0.001), loss='categorical_crossentropy', metrics=['accuracy'])"
      ]
    },
    {
      "cell_type": "code",
      "execution_count": null,
      "metadata": {
        "colab": {
          "base_uri": "https://localhost:8080/",
          "height": 147
        },
        "id": "VkxX_GGTbeuk",
        "outputId": "81cd131e-77e7-4452-a7bf-460b6b751769"
      },
      "outputs": [],
      "source": [
        "# Convert to DataFrame\n",
        "image_data = pd.DataFrame({\"filename\": image_paths, \"label\": labels})\n",
        "image_data\n",
        "image_data[\"label\"] = image_data[\"label\"].astype(str)\n",
        "image_data.dtypes"
      ]
    },
    {
      "cell_type": "code",
      "execution_count": null,
      "metadata": {
        "colab": {
          "base_uri": "https://localhost:8080/",
          "height": 147
        },
        "id": "j0xsa0Nubltt",
        "outputId": "549583d8-12ee-49ef-bd6d-cbccbeb05df1"
      },
      "outputs": [],
      "source": [
        "# Convert to DataFrame\n",
        "test_image_data = pd.DataFrame({\"filename\": test_image_paths, \"label\": test_labels})\n",
        "test_image_data\n",
        "test_image_data[\"label\"] = test_image_data[\"label\"].astype(str)\n",
        "test_image_data.dtypes"
      ]
    },
    {
      "cell_type": "code",
      "execution_count": null,
      "metadata": {
        "id": "jOwrp7n9bqdK"
      },
      "outputs": [],
      "source": [
        "train_df, val_df = train_test_split(image_data, test_size=0.1, stratify=image_data['label'], random_state=42)"
      ]
    },
    {
      "cell_type": "code",
      "execution_count": null,
      "metadata": {
        "colab": {
          "base_uri": "https://localhost:8080/"
        },
        "id": "ed6e1qgdbrWQ",
        "outputId": "e9c7bc3d-c1f5-4f01-b208-7b523ae75a22"
      },
      "outputs": [],
      "source": [
        "train_datagen = ImageDataGenerator(rescale=1./255)\n",
        "val_datagen = ImageDataGenerator(rescale=1./255)\n",
        "\n",
        "train_generator = train_datagen.flow_from_dataframe(\n",
        "    train_df,\n",
        "    x_col='filename',\n",
        "    y_col='label',\n",
        "    target_size=(img_height, img_width),\n",
        "    batch_size=32,\n",
        "    class_mode='categorical'\n",
        ")\n",
        "\n",
        "val_generator = val_datagen.flow_from_dataframe(\n",
        "    val_df,\n",
        "    x_col='filename',\n",
        "    y_col='label',\n",
        "    target_size=(img_height, img_width),\n",
        "    batch_size=32,\n",
        "    class_mode='categorical'\n",
        ")"
      ]
    },
    {
      "cell_type": "code",
      "execution_count": null,
      "metadata": {
        "colab": {
          "base_uri": "https://localhost:8080/"
        },
        "id": "Fq8TVaRGbvnP",
        "outputId": "96234136-3cdf-46ba-ed30-94ea0c5168a7"
      },
      "outputs": [],
      "source": [
        "test_datagen = ImageDataGenerator(rescale=1./255)\n",
        "\n",
        "test_generator = test_datagen.flow_from_dataframe(\n",
        "    test_image_data,\n",
        "    x_col='filename',\n",
        "    y_col='label',\n",
        "    target_size=(img_height, img_width),\n",
        "    batch_size=32,\n",
        "    class_mode='categorical'\n",
        ")"
      ]
    },
    {
      "cell_type": "code",
      "execution_count": null,
      "metadata": {
        "colab": {
          "background_save": true,
          "base_uri": "https://localhost:8080/"
        },
        "id": "SbYn1XDLbxVC",
        "outputId": "487c6df0-c85a-4bec-eceb-f2331bea2e92"
      },
      "outputs": [],
      "source": [
        "NUM_EPOCHS = 2\n",
        "\n",
        "history = model.fit(\n",
        "  train_generator,\n",
        "  validation_data=val_generator,\n",
        "  epochs=NUM_EPOCHS,\n",
        "  verbose=1\n",
        ")"
      ]
    },
    {
      "cell_type": "code",
      "execution_count": null,
      "metadata": {
        "id": "C8YIJxgIb2yB"
      },
      "outputs": [],
      "source": [
        "loss, accuracy = model.evaluate(test_generator)\n",
        "print(f\"Loss: {loss:.4f}, Accuracy: {accuracy:.4f}\")"
      ]
    },
    {
      "cell_type": "markdown",
      "metadata": {
        "id": "4GlQSURwb7oG"
      },
      "source": [
        "## Testing"
      ]
    },
    {
      "cell_type": "code",
      "execution_count": null,
      "metadata": {
        "id": "yfmQSr98b5Fe"
      },
      "outputs": [],
      "source": [
        "def preprocess_image(img_path):\n",
        "    img = image.load_img(img_path, target_size=(img_height, img_width))\n",
        "    img_array = image.img_to_array(img)\n",
        "    img_array = np.expand_dims(img_array, axis=0)\n",
        "    img_array = img_array / 255.0\n",
        "    return img_array"
      ]
    },
    {
      "cell_type": "code",
      "execution_count": null,
      "metadata": {
        "id": "Kpjzcijhb9c2"
      },
      "outputs": [],
      "source": [
        "img_path = '/content/drive/MyDrive/DeepLearning-Project/Train_Splitted/test/Pookkie/IMG_4227.JPG' # Testing Image path\n",
        "preprocessed_image = preprocess_image(img_path)\n",
        "prediction = model.predict(preprocessed_image)\n",
        "predicted_class_index = np.argmax(prediction, axis=1)\n",
        "\n",
        "class_labels = ['Oak', 'Pat', 'Pookkie', 'Praewa', 'Tup']\n",
        "print(predicted_class_index)\n",
        "predicted_class_label = class_labels[predicted_class_index[0]]\n",
        "print(f\"Predicted Class: {predicted_class_label}\")"
      ]
    },
    {
      "cell_type": "markdown",
      "metadata": {
        "id": "HvqArAUZcN_S"
      },
      "source": [
        "## Save Model"
      ]
    },
    {
      "cell_type": "code",
      "execution_count": null,
      "metadata": {
        "id": "qS2sNLAJcQt3"
      },
      "outputs": [],
      "source": [
        "model_save_path = '/content/drive/MyDrive/DeepLearning-Project/saved_models'\n",
        "\n",
        "os.makedirs(model_save_path, exist_ok=True)\n",
        "\n",
        "model.save(os.path.join(model_save_path, f\"model_Augment_2_2.h5\"))"
      ]
    },
    {
      "cell_type": "markdown",
      "metadata": {
        "id": "sY5fEgpFcVn3"
      },
      "source": [
        "## Verify Model"
      ]
    },
    {
      "cell_type": "code",
      "execution_count": null,
      "metadata": {
        "id": "sZdshdAicXua"
      },
      "outputs": [],
      "source": [
        "# Load the saved model\n",
        "model_path = '/content/drive/MyDrive/DeepLearning-Project/saved_models/model_Augment_2.h5'\n",
        "model = tf.keras.models.load_model(model_path)"
      ]
    },
    {
      "cell_type": "code",
      "execution_count": null,
      "metadata": {
        "id": "efABjmveceKb"
      },
      "outputs": [],
      "source": [
        "def predict_images_from_path(image_dir, model):\n",
        "    image_files = [f for f in os.listdir(image_dir) if os.path.isfile(os.path.join(image_dir, f))]\n",
        "    predictions = []\n",
        "    for image_file in image_files:\n",
        "        img_path = os.path.join(image_dir, image_file)\n",
        "        Image.open(img_path).verify()\n",
        "        img = image.load_img(img_path, target_size=(img_height, img_width))\n",
        "        img_array = image.img_to_array(img)\n",
        "        img_array = np.expand_dims(img_array, axis=0)\n",
        "        img_array = img_array / 255.0\n",
        "        prediction = model.predict(img_array)\n",
        "        predicted_class_index = np.argmax(prediction, axis=1)\n",
        "        class_labels = ['Oak', 'Pat', 'Pookkie', 'Praewa', 'Tup']\n",
        "        predicted_class_label = class_labels[predicted_class_index[0]]\n",
        "        predictions.append((image_file, predicted_class_label))\n",
        "\n",
        "    return predictions"
      ]
    },
    {
      "cell_type": "code",
      "execution_count": null,
      "metadata": {
        "id": "0Ho0FssYcace"
      },
      "outputs": [],
      "source": [
        "image_directory = '/content/drive/MyDrive/DeepLearning-Project/Train_Splitted/test/Tup/'\n",
        "results = predict_images_from_path(image_directory, model)"
      ]
    },
    {
      "cell_type": "code",
      "execution_count": null,
      "metadata": {
        "id": "DzG4gwtwcirg"
      },
      "outputs": [],
      "source": [
        "correct_prediction = 0\n",
        "all_prediction = 0\n",
        "\n",
        "for image_file, predicted_label in results:\n",
        "    print(f\"Image: {image_file}, Predicted Label: {predicted_label}\")\n",
        "    if predicted_label == 'Tup':\n",
        "      correct_prediction += 1\n",
        "    all_prediction += 1"
      ]
    },
    {
      "cell_type": "code",
      "execution_count": null,
      "metadata": {
        "id": "KEvnHWC6cj0u"
      },
      "outputs": [],
      "source": [
        "print(f\"Correct prediction : {correct_prediction} from {all_prediction}\")"
      ]
    }
  ],
  "metadata": {
    "colab": {
      "provenance": []
    },
    "kernelspec": {
      "display_name": "Python 3",
      "name": "python3"
    },
    "language_info": {
      "name": "python"
    }
  },
  "nbformat": 4,
  "nbformat_minor": 0
}
